{
  "nbformat": 4,
  "nbformat_minor": 0,
  "metadata": {
    "colab": {
      "name": "pneumonia_classifier",
      "provenance": [],
      "mount_file_id": "1JbrLInMRyplwah4t39xc7aPP38nAOlX5",
      "authorship_tag": "ABX9TyPF2slHJ4q9Uy696p++4SHl",
      "include_colab_link": true
    },
    "kernelspec": {
      "name": "python3",
      "display_name": "Python 3"
    },
    "language_info": {
      "name": "python"
    }
  },
  "cells": [
    {
      "cell_type": "markdown",
      "metadata": {
        "id": "view-in-github",
        "colab_type": "text"
      },
      "source": [
        "<a href=\"https://colab.research.google.com/github/alicewoo0925/pneumonia-classifier/blob/main/pneumonia_classifier.ipynb\" target=\"_parent\"><img src=\"https://colab.research.google.com/assets/colab-badge.svg\" alt=\"Open In Colab\"/></a>"
      ]
    },
    {
      "cell_type": "markdown",
      "source": [
        "# Set up"
      ],
      "metadata": {
        "id": "1ibK5_yP5XBa"
      }
    },
    {
      "cell_type": "code",
      "source": [
        "# set up the environment\n",
        "# import modules\n",
        "import numpy as np\n",
        "import pandas as pd\n",
        "import matplotlib.pyplot as plt\n",
        "import glob\n",
        "import cv2\n",
        "\n",
        "\n",
        "# import tensorflow and keras\n",
        "import tensorflow as tf\n",
        "from tensorflow import keras\n",
        "from tensorflow.keras import layers\n",
        "import keras.backend as K\n",
        "from tensorflow.keras.preprocessing import image\n",
        "from tensorflow.keras.models import Model\n",
        "\n",
        "# import skimage\n",
        "from skimage.color import rgb2gray\n",
        "from skimage import io"
      ],
      "metadata": {
        "id": "0_EAFmSJ5U6h"
      },
      "execution_count": null,
      "outputs": []
    },
    {
      "cell_type": "code",
      "execution_count": 3,
      "metadata": {
        "id": "dxOwKtR6i8G6",
        "colab": {
          "base_uri": "https://localhost:8080/"
        },
        "outputId": "76851fb6-e1ef-4d5c-c226-fe656745b41e"
      },
      "outputs": [
        {
          "output_type": "stream",
          "name": "stdout",
          "text": [
            "Mounted at /content/gdrive\n"
          ]
        }
      ],
      "source": [
        "# using Google Colaboratory\n",
        "from google.colab import files\n",
        "from google.colab import drive\n",
        "\n",
        "# link to Google Drive\n",
        "drive.mount('/content/gdrive')"
      ]
    },
    {
      "cell_type": "markdown",
      "source": [
        "# Load image data"
      ],
      "metadata": {
        "id": "PpEy0XnlKuIw"
      }
    },
    {
      "cell_type": "code",
      "source": [
        "train_paths = glob.glob('/content/gdrive/MyDrive/bmet5933/BMET5933 Assignment2/chest_xray_small_dataset/chest_xray/train/**/*.jpeg')\n",
        "test_paths = glob.glob('/content/gdrive/MyDrive/bmet5933/BMET5933 Assignment2/chest_xray_small_dataset/chest_xray/test/**/*.jpeg')"
      ],
      "metadata": {
        "id": "B7VcfarO9zgV"
      },
      "execution_count": null,
      "outputs": []
    },
    {
      "cell_type": "code",
      "source": [
        "train_images = []\n",
        "test_images = []\n",
        "# read image files\n",
        "for image_path in train_paths:\n",
        "  img = io.imread(image_path)\n",
        "  img_gray = rgb2gray(img)*256\n",
        "  train_images.append(img_gray)\n",
        "\n",
        "for image_path in test_paths:\n",
        "  img = io.imread(image_path)\n",
        "  img_gray = rgb2gray(img)*256\n",
        "  test_images.append(img_gray)"
      ],
      "metadata": {
        "colab": {
          "base_uri": "https://localhost:8080/"
        },
        "id": "OXrIzS6kL_bQ",
        "outputId": "668a87ac-b858-4c56-c9e1-dc3381ae4175"
      },
      "execution_count": null,
      "outputs": [
        {
          "output_type": "stream",
          "name": "stderr",
          "text": [
            "/usr/local/lib/python3.7/dist-packages/ipykernel_launcher.py:6: FutureWarning: The behavior of rgb2gray will change in scikit-image 0.19. Currently, rgb2gray allows 2D grayscale image to be passed as inputs and leaves them unmodified as outputs. Starting from version 0.19, 2D arrays will be treated as 1D images with 3 channels.\n",
            "  \n",
            "/usr/local/lib/python3.7/dist-packages/ipykernel_launcher.py:11: FutureWarning: The behavior of rgb2gray will change in scikit-image 0.19. Currently, rgb2gray allows 2D grayscale image to be passed as inputs and leaves them unmodified as outputs. Starting from version 0.19, 2D arrays will be treated as 1D images with 3 channels.\n",
            "  # This is added back by InteractiveShellApp.init_path()\n"
          ]
        }
      ]
    },
    {
      "cell_type": "code",
      "source": [
        "print(len(train_images))\n",
        "print(len(test_images))"
      ],
      "metadata": {
        "colab": {
          "base_uri": "https://localhost:8080/"
        },
        "id": "TrcSwSjwLaji",
        "outputId": "c17faeb1-1ab1-44b1-f000-b57204e349a9"
      },
      "execution_count": null,
      "outputs": [
        {
          "output_type": "stream",
          "name": "stdout",
          "text": [
            "1327\n",
            "624\n"
          ]
        }
      ]
    },
    {
      "cell_type": "markdown",
      "source": [
        "# Extract features using CNN"
      ],
      "metadata": {
        "id": "_64EWFXH9ZIl"
      }
    },
    {
      "cell_type": "code",
      "source": [
        "from tensorflow.keras.applications.resnet50 import ResNet50, preprocess_input"
      ],
      "metadata": {
        "id": "PPciv2_5_DVE"
      },
      "execution_count": null,
      "outputs": []
    },
    {
      "cell_type": "code",
      "source": [
        "# load a resnet model without the prediction layers at the end\n",
        "resnet50_tl_model = ResNet50(weights='imagenet', include_top=False, pooling='avg')"
      ],
      "metadata": {
        "id": "cSi_qSTq9djx"
      },
      "execution_count": null,
      "outputs": []
    },
    {
      "cell_type": "code",
      "source": [
        "'''\n",
        "this function extracts image features using ResNet50\n",
        "'''\n",
        "def getCNNFeatures(image_paths):\n",
        "  all_image_features = []\n",
        "  for img_path in image_paths:\n",
        "    img = image.load_img(img_path, target_size=(224, 224))\n",
        "    x = image.img_to_array(img)\n",
        "    x = np.expand_dims(x, axis=0)\n",
        "    x = preprocess_input(x)\n",
        "    image_features = resnet50_tl_model.predict(x)\n",
        "    all_image_features.append(image_features)\n",
        "\n",
        "  # convert to np feature matrix\n",
        "  features = np.concatenate(all_image_features, axis=0)\n",
        "  return features"
      ],
      "metadata": {
        "id": "GQjer85n6FER"
      },
      "execution_count": null,
      "outputs": []
    },
    {
      "cell_type": "code",
      "source": [
        "train_features_cnn = getCNNFeatures(train_paths)\n",
        "test_features_cnn = getCNNFeatures(test_paths)"
      ],
      "metadata": {
        "id": "cXJFiMpj8B9M"
      },
      "execution_count": null,
      "outputs": []
    },
    {
      "cell_type": "code",
      "source": [
        "print(train_features_cnn.shape)\n",
        "print(test_features_cnn.shape)"
      ],
      "metadata": {
        "colab": {
          "base_uri": "https://localhost:8080/"
        },
        "id": "d0Ed0aRwZs_j",
        "outputId": "a691614d-3b13-49ce-b7bb-f755aaa25fe4"
      },
      "execution_count": null,
      "outputs": [
        {
          "output_type": "stream",
          "name": "stdout",
          "text": [
            "(1327, 2048)\n",
            "(624, 2048)\n"
          ]
        }
      ]
    },
    {
      "cell_type": "code",
      "source": [
        "# save this feature set for future use\n",
        "np.savetxt('/content/gdrive/MyDrive/bmet5933/BMET5933 Assignment2/train_features_cnn.csv',train_features_cnn,delimiter=',')\n",
        "np.savetxt('/content/gdrive/MyDrive/bmet5933/BMET5933 Assignment2/test_features_cnn.csv',test_features_cnn,delimiter=',')"
      ],
      "metadata": {
        "id": "OruqZAsjGE-7"
      },
      "execution_count": null,
      "outputs": []
    },
    {
      "cell_type": "markdown",
      "source": [
        "# Extract features using first order statistics and GLCM"
      ],
      "metadata": {
        "id": "ZdOkcjmkDJfO"
      }
    },
    {
      "cell_type": "code",
      "source": [
        "from scipy import stats\n",
        "from skimage.feature import greycomatrix, greycoprops"
      ],
      "metadata": {
        "id": "CYous8qYDeCj"
      },
      "execution_count": null,
      "outputs": []
    },
    {
      "cell_type": "code",
      "source": [
        "'''\n",
        "a function to obtain first order statistics\n",
        "'''\n",
        "def getFirstOrderStats(img):\n",
        "\n",
        "  # obtain the values\n",
        "  entropy = stats.entropy(img,axis=None)\n",
        "  img_stats = stats.describe(img,axis=None)\n",
        "\n",
        "  first_order_stats = np.array([img_stats.mean,\n",
        "                                img_stats.minmax[0],\n",
        "                                img_stats.minmax[1],\n",
        "                                img_stats.variance,\n",
        "                                img_stats.skewness,\n",
        "                                img_stats.kurtosis,\n",
        "                                entropy]) \n",
        "\n",
        "  return first_order_stats"
      ],
      "metadata": {
        "id": "aIyR-mEYKZnJ"
      },
      "execution_count": null,
      "outputs": []
    },
    {
      "cell_type": "code",
      "source": [
        "'''\n",
        "a function to obtain texture features\n",
        "'''\n",
        "def getGLCM(img):\n",
        "\n",
        "  # create a binned image\n",
        "  FACTOR = np.max(img) / (256-1) \n",
        "  binned = img // FACTOR \n",
        "\n",
        "  # ensure the image is of an integer type\n",
        "  integer_img = binned.astype(int)\n",
        "\n",
        "  # compute the matrix\n",
        "  glcm = greycomatrix(integer_img,\n",
        "                      distances=[1],\n",
        "                      angles=[0, np.pi/4, np.pi/2, 3*np.pi/4],\n",
        "                      levels=256,\n",
        "                      normed=True,\n",
        "                      symmetric=True)\n",
        "  # define the features\n",
        "  features = ['contrast', 'dissimilarity', 'homogeneity', 'energy', 'correlation', 'ASM']\n",
        "\n",
        "  # using for loop to compute the features\n",
        "  for feature in features:\n",
        "    output = (greycoprops(glcm, feature).flatten())\n",
        "    \n",
        "\n",
        "  texture_features = np.array([])\n",
        "  texture_features = np.insert(texture_features, [0], greycoprops(glcm, \"contrast\").flatten()) \n",
        "  texture_features = np.insert(texture_features, [-1], greycoprops(glcm, \"dissimilarity\").flatten())\n",
        "  texture_features = np.insert(texture_features, [-1], greycoprops(glcm, \"homogeneity\").flatten())\n",
        "  texture_features = np.insert(texture_features, [-1], greycoprops(glcm, \"energy\").flatten())\n",
        "  texture_features = np.insert(texture_features, [-1], greycoprops(glcm, \"correlation\").flatten())\n",
        "  texture_features = np.insert(texture_features, [-1], greycoprops(glcm, \"ASM\").flatten())\n",
        "\n",
        "  return texture_features"
      ],
      "metadata": {
        "id": "2BVJD1B9D4xk"
      },
      "execution_count": null,
      "outputs": []
    },
    {
      "cell_type": "code",
      "source": [
        "# extract the features of train set\n",
        "all_features = []\n",
        "\n",
        "for img in train_images: \n",
        "  first_order_stats = getFirstOrderStats(img) \n",
        "  texture_features = getGLCM(img) \n",
        " \n",
        "  # merge features into one vector\n",
        "  image_features = np.array([])\n",
        "  image_features = np.insert(image_features, [0], first_order_stats.flatten())  \n",
        "  image_features = np.insert(image_features, [-1], texture_features.flatten())    \n",
        " \n",
        "  all_features.append(image_features) # put into the list\n",
        "\n",
        "# transform the list into a 2D np array\n",
        "train_features = np.vstack(all_features)"
      ],
      "metadata": {
        "id": "C5f2kFSwF9Kc"
      },
      "execution_count": null,
      "outputs": []
    },
    {
      "cell_type": "code",
      "source": [
        "# extract the features of test set\n",
        "all_features = []\n",
        "\n",
        "for image in test_images: \n",
        "  first_order_stats = getFirstOrderStats(image) \n",
        "  texture_features = getGLCM(image) \n",
        " \n",
        "  # merge features into one vector\n",
        "  image_features = np.array([])\n",
        "  image_features = np.insert(image_features, [0], first_order_stats.flatten())  \n",
        "  image_features = np.insert(image_features, [-1], texture_features.flatten())    \n",
        " \n",
        "  all_features.append(image_features) # put into the list\n",
        "\n",
        "# transform the list into a 2D np array\n",
        "test_features = np.vstack(all_features)"
      ],
      "metadata": {
        "id": "8HePjreGNego"
      },
      "execution_count": null,
      "outputs": []
    },
    {
      "cell_type": "code",
      "source": [
        "# save this feature set for future use\n",
        "np.savetxt('/content/gdrive/MyDrive/bmet5933/BMET5933 Assignment2/train_features.csv',train_features,delimiter=',')\n",
        "np.savetxt('/content/gdrive/MyDrive/bmet5933/BMET5933 Assignment2/test_features.csv',test_features,delimiter=',')"
      ],
      "metadata": {
        "id": "FCydQIWvNqW2"
      },
      "execution_count": null,
      "outputs": []
    },
    {
      "cell_type": "markdown",
      "source": [
        "# Train Random Forest"
      ],
      "metadata": {
        "id": "_hzvzCHMHAvZ"
      }
    },
    {
      "cell_type": "code",
      "source": [
        "from sklearn import ensemble"
      ],
      "metadata": {
        "id": "mhuIfepjHpX9"
      },
      "execution_count": null,
      "outputs": []
    },
    {
      "cell_type": "markdown",
      "source": [
        "## Using CNN features"
      ],
      "metadata": {
        "id": "KtSJRpZVODWl"
      }
    },
    {
      "cell_type": "code",
      "source": [
        "# load the saved features\n",
        "train_features_cnn = np.loadtxt('/content/gdrive/MyDrive/bmet5933/BMET5933 Assignment2/train_features_cnn.csv',delimiter=',')\n",
        "test_features_cnn = np.loadtxt('/content/gdrive/MyDrive/bmet5933/BMET5933 Assignment2/test_features_cnn.csv',delimiter=',')"
      ],
      "metadata": {
        "id": "wM9CB1wVG8Au"
      },
      "execution_count": null,
      "outputs": []
    },
    {
      "cell_type": "code",
      "source": [
        "train_features_cnn.shape"
      ],
      "metadata": {
        "colab": {
          "base_uri": "https://localhost:8080/"
        },
        "id": "M3_yF901q1rZ",
        "outputId": "d712a031-7fca-40e3-f5ef-fbe837ec6e00"
      },
      "execution_count": null,
      "outputs": [
        {
          "output_type": "execute_result",
          "data": {
            "text/plain": [
              "(1327, 2048)"
            ]
          },
          "metadata": {},
          "execution_count": 5
        }
      ]
    },
    {
      "cell_type": "code",
      "source": [
        "train_features_cnn"
      ],
      "metadata": {
        "colab": {
          "base_uri": "https://localhost:8080/"
        },
        "id": "stDkafKJIZFw",
        "outputId": "8b37d278-5044-4d54-975f-c9fafcfb3c00"
      },
      "execution_count": null,
      "outputs": [
        {
          "output_type": "execute_result",
          "data": {
            "text/plain": [
              "array([[1.18478370e+00, 1.24790990e+00, 1.95681766e-01, ...,\n",
              "        1.18292507e-03, 5.47102511e-01, 1.79751769e-01],\n",
              "       [2.92473578e+00, 1.59352064e+00, 4.98986840e-02, ...,\n",
              "        8.36384743e-02, 2.36153200e-01, 1.07637778e-01],\n",
              "       [3.15620708e+00, 1.90217900e+00, 1.87583063e-02, ...,\n",
              "        2.29124613e-02, 1.54628366e-01, 0.00000000e+00],\n",
              "       ...,\n",
              "       [6.56956434e-01, 1.66037905e+00, 0.00000000e+00, ...,\n",
              "        1.24154976e-02, 3.83768864e-02, 0.00000000e+00],\n",
              "       [1.99334013e+00, 1.37760431e-01, 5.24333417e-02, ...,\n",
              "        1.29686400e-01, 5.39776146e-01, 5.32395614e-04],\n",
              "       [1.24437249e+00, 2.48014760e+00, 1.69038922e-02, ...,\n",
              "        6.51951656e-02, 6.40175119e-02, 0.00000000e+00]])"
            ]
          },
          "metadata": {},
          "execution_count": 9
        }
      ]
    },
    {
      "cell_type": "code",
      "source": [
        "train_paths[0].split('/')[-1].split('-')[0]"
      ],
      "metadata": {
        "colab": {
          "base_uri": "https://localhost:8080/",
          "height": 35
        },
        "id": "6XeuZI5GM5Ob",
        "outputId": "23eaee25-7072-467f-c08c-0d25b87cef6e"
      },
      "execution_count": null,
      "outputs": [
        {
          "output_type": "execute_result",
          "data": {
            "text/plain": [
              "'NORMAL'"
            ],
            "application/vnd.google.colaboratory.intrinsic+json": {
              "type": "string"
            }
          },
          "metadata": {},
          "execution_count": 8
        }
      ]
    },
    {
      "cell_type": "code",
      "source": [
        "y_train = []\n",
        "y_test = []\n",
        "\n",
        "# extract the target from the file name\n",
        "# train set\n",
        "for classname in train_paths:\n",
        "  y_train.append(classname.split('/')[-1].split('-')[0])\n",
        "# test set\n",
        "for classname in test_paths:\n",
        "  y_test.append(classname.split('/')[-1].split('-')[0])"
      ],
      "metadata": {
        "id": "DM9aV5--IheR"
      },
      "execution_count": null,
      "outputs": []
    },
    {
      "cell_type": "code",
      "source": [
        "y_test"
      ],
      "metadata": {
        "colab": {
          "base_uri": "https://localhost:8080/"
        },
        "id": "5NLa5NKxMnd1",
        "outputId": "d82866f7-3383-4499-ebaa-d2399cb58137"
      },
      "execution_count": null,
      "outputs": [
        {
          "output_type": "execute_result",
          "data": {
            "text/plain": [
              "['NORMAL',\n",
              " 'NORMAL',\n",
              " 'NORMAL',\n",
              " 'NORMAL',\n",
              " 'NORMAL',\n",
              " 'NORMAL',\n",
              " 'NORMAL',\n",
              " 'NORMAL',\n",
              " 'NORMAL',\n",
              " 'NORMAL',\n",
              " 'NORMAL',\n",
              " 'NORMAL',\n",
              " 'NORMAL',\n",
              " 'NORMAL',\n",
              " 'NORMAL',\n",
              " 'NORMAL',\n",
              " 'NORMAL',\n",
              " 'NORMAL',\n",
              " 'NORMAL',\n",
              " 'NORMAL',\n",
              " 'NORMAL',\n",
              " 'NORMAL',\n",
              " 'NORMAL',\n",
              " 'NORMAL',\n",
              " 'NORMAL',\n",
              " 'NORMAL',\n",
              " 'NORMAL',\n",
              " 'NORMAL',\n",
              " 'NORMAL',\n",
              " 'NORMAL',\n",
              " 'NORMAL',\n",
              " 'NORMAL',\n",
              " 'NORMAL',\n",
              " 'NORMAL',\n",
              " 'NORMAL',\n",
              " 'NORMAL',\n",
              " 'NORMAL',\n",
              " 'NORMAL',\n",
              " 'NORMAL',\n",
              " 'NORMAL',\n",
              " 'NORMAL',\n",
              " 'NORMAL',\n",
              " 'NORMAL',\n",
              " 'NORMAL',\n",
              " 'NORMAL',\n",
              " 'NORMAL',\n",
              " 'NORMAL',\n",
              " 'NORMAL',\n",
              " 'NORMAL',\n",
              " 'NORMAL',\n",
              " 'NORMAL',\n",
              " 'NORMAL',\n",
              " 'NORMAL',\n",
              " 'NORMAL',\n",
              " 'NORMAL',\n",
              " 'NORMAL',\n",
              " 'NORMAL',\n",
              " 'NORMAL',\n",
              " 'NORMAL',\n",
              " 'NORMAL',\n",
              " 'NORMAL',\n",
              " 'NORMAL',\n",
              " 'NORMAL',\n",
              " 'NORMAL',\n",
              " 'NORMAL',\n",
              " 'NORMAL',\n",
              " 'NORMAL',\n",
              " 'NORMAL',\n",
              " 'NORMAL',\n",
              " 'NORMAL',\n",
              " 'NORMAL',\n",
              " 'NORMAL',\n",
              " 'NORMAL',\n",
              " 'NORMAL',\n",
              " 'NORMAL',\n",
              " 'NORMAL',\n",
              " 'NORMAL',\n",
              " 'NORMAL',\n",
              " 'NORMAL',\n",
              " 'NORMAL',\n",
              " 'NORMAL',\n",
              " 'NORMAL',\n",
              " 'NORMAL',\n",
              " 'NORMAL',\n",
              " 'NORMAL',\n",
              " 'NORMAL',\n",
              " 'NORMAL',\n",
              " 'NORMAL',\n",
              " 'NORMAL',\n",
              " 'NORMAL',\n",
              " 'NORMAL',\n",
              " 'NORMAL',\n",
              " 'NORMAL',\n",
              " 'NORMAL',\n",
              " 'NORMAL',\n",
              " 'NORMAL',\n",
              " 'NORMAL',\n",
              " 'NORMAL',\n",
              " 'NORMAL',\n",
              " 'NORMAL',\n",
              " 'NORMAL',\n",
              " 'NORMAL',\n",
              " 'NORMAL',\n",
              " 'NORMAL',\n",
              " 'NORMAL',\n",
              " 'NORMAL',\n",
              " 'NORMAL',\n",
              " 'NORMAL',\n",
              " 'NORMAL',\n",
              " 'NORMAL',\n",
              " 'NORMAL',\n",
              " 'NORMAL',\n",
              " 'NORMAL',\n",
              " 'NORMAL',\n",
              " 'NORMAL',\n",
              " 'NORMAL',\n",
              " 'NORMAL',\n",
              " 'NORMAL',\n",
              " 'NORMAL',\n",
              " 'NORMAL',\n",
              " 'NORMAL',\n",
              " 'NORMAL',\n",
              " 'NORMAL',\n",
              " 'NORMAL',\n",
              " 'NORMAL',\n",
              " 'NORMAL',\n",
              " 'NORMAL',\n",
              " 'NORMAL',\n",
              " 'NORMAL',\n",
              " 'NORMAL',\n",
              " 'NORMAL',\n",
              " 'NORMAL',\n",
              " 'NORMAL',\n",
              " 'NORMAL',\n",
              " 'NORMAL',\n",
              " 'NORMAL',\n",
              " 'NORMAL',\n",
              " 'NORMAL',\n",
              " 'NORMAL',\n",
              " 'NORMAL',\n",
              " 'NORMAL',\n",
              " 'NORMAL',\n",
              " 'NORMAL',\n",
              " 'NORMAL',\n",
              " 'NORMAL',\n",
              " 'NORMAL',\n",
              " 'NORMAL',\n",
              " 'NORMAL',\n",
              " 'NORMAL',\n",
              " 'NORMAL',\n",
              " 'NORMAL',\n",
              " 'NORMAL',\n",
              " 'NORMAL',\n",
              " 'NORMAL',\n",
              " 'NORMAL',\n",
              " 'NORMAL',\n",
              " 'NORMAL',\n",
              " 'NORMAL',\n",
              " 'NORMAL',\n",
              " 'NORMAL',\n",
              " 'NORMAL',\n",
              " 'NORMAL',\n",
              " 'NORMAL',\n",
              " 'NORMAL',\n",
              " 'NORMAL',\n",
              " 'NORMAL',\n",
              " 'NORMAL',\n",
              " 'NORMAL',\n",
              " 'NORMAL',\n",
              " 'NORMAL',\n",
              " 'NORMAL',\n",
              " 'NORMAL',\n",
              " 'NORMAL',\n",
              " 'NORMAL',\n",
              " 'NORMAL',\n",
              " 'NORMAL',\n",
              " 'NORMAL',\n",
              " 'NORMAL',\n",
              " 'NORMAL',\n",
              " 'NORMAL',\n",
              " 'NORMAL',\n",
              " 'NORMAL',\n",
              " 'NORMAL',\n",
              " 'NORMAL',\n",
              " 'NORMAL',\n",
              " 'NORMAL',\n",
              " 'NORMAL',\n",
              " 'NORMAL',\n",
              " 'NORMAL',\n",
              " 'NORMAL',\n",
              " 'NORMAL',\n",
              " 'NORMAL',\n",
              " 'NORMAL',\n",
              " 'NORMAL',\n",
              " 'NORMAL',\n",
              " 'NORMAL',\n",
              " 'NORMAL',\n",
              " 'NORMAL',\n",
              " 'NORMAL',\n",
              " 'NORMAL',\n",
              " 'NORMAL',\n",
              " 'NORMAL',\n",
              " 'NORMAL',\n",
              " 'NORMAL',\n",
              " 'NORMAL',\n",
              " 'NORMAL',\n",
              " 'NORMAL',\n",
              " 'NORMAL',\n",
              " 'NORMAL',\n",
              " 'NORMAL',\n",
              " 'NORMAL',\n",
              " 'NORMAL',\n",
              " 'NORMAL',\n",
              " 'NORMAL',\n",
              " 'NORMAL',\n",
              " 'NORMAL',\n",
              " 'NORMAL',\n",
              " 'NORMAL',\n",
              " 'NORMAL',\n",
              " 'NORMAL',\n",
              " 'NORMAL',\n",
              " 'NORMAL',\n",
              " 'NORMAL',\n",
              " 'NORMAL',\n",
              " 'NORMAL',\n",
              " 'NORMAL',\n",
              " 'NORMAL',\n",
              " 'NORMAL',\n",
              " 'NORMAL',\n",
              " 'NORMAL',\n",
              " 'NORMAL',\n",
              " 'NORMAL',\n",
              " 'NORMAL',\n",
              " 'NORMAL',\n",
              " 'BACTERIA',\n",
              " 'BACTERIA',\n",
              " 'BACTERIA',\n",
              " 'BACTERIA',\n",
              " 'BACTERIA',\n",
              " 'BACTERIA',\n",
              " 'BACTERIA',\n",
              " 'BACTERIA',\n",
              " 'BACTERIA',\n",
              " 'BACTERIA',\n",
              " 'BACTERIA',\n",
              " 'BACTERIA',\n",
              " 'BACTERIA',\n",
              " 'BACTERIA',\n",
              " 'BACTERIA',\n",
              " 'BACTERIA',\n",
              " 'BACTERIA',\n",
              " 'BACTERIA',\n",
              " 'BACTERIA',\n",
              " 'BACTERIA',\n",
              " 'BACTERIA',\n",
              " 'BACTERIA',\n",
              " 'BACTERIA',\n",
              " 'BACTERIA',\n",
              " 'BACTERIA',\n",
              " 'BACTERIA',\n",
              " 'BACTERIA',\n",
              " 'BACTERIA',\n",
              " 'BACTERIA',\n",
              " 'BACTERIA',\n",
              " 'BACTERIA',\n",
              " 'BACTERIA',\n",
              " 'BACTERIA',\n",
              " 'BACTERIA',\n",
              " 'BACTERIA',\n",
              " 'BACTERIA',\n",
              " 'BACTERIA',\n",
              " 'BACTERIA',\n",
              " 'BACTERIA',\n",
              " 'BACTERIA',\n",
              " 'BACTERIA',\n",
              " 'BACTERIA',\n",
              " 'BACTERIA',\n",
              " 'BACTERIA',\n",
              " 'BACTERIA',\n",
              " 'BACTERIA',\n",
              " 'BACTERIA',\n",
              " 'BACTERIA',\n",
              " 'BACTERIA',\n",
              " 'BACTERIA',\n",
              " 'BACTERIA',\n",
              " 'BACTERIA',\n",
              " 'BACTERIA',\n",
              " 'BACTERIA',\n",
              " 'BACTERIA',\n",
              " 'BACTERIA',\n",
              " 'BACTERIA',\n",
              " 'BACTERIA',\n",
              " 'BACTERIA',\n",
              " 'BACTERIA',\n",
              " 'BACTERIA',\n",
              " 'BACTERIA',\n",
              " 'BACTERIA',\n",
              " 'BACTERIA',\n",
              " 'BACTERIA',\n",
              " 'BACTERIA',\n",
              " 'BACTERIA',\n",
              " 'BACTERIA',\n",
              " 'BACTERIA',\n",
              " 'BACTERIA',\n",
              " 'BACTERIA',\n",
              " 'BACTERIA',\n",
              " 'BACTERIA',\n",
              " 'BACTERIA',\n",
              " 'BACTERIA',\n",
              " 'BACTERIA',\n",
              " 'BACTERIA',\n",
              " 'BACTERIA',\n",
              " 'BACTERIA',\n",
              " 'BACTERIA',\n",
              " 'BACTERIA',\n",
              " 'BACTERIA',\n",
              " 'BACTERIA',\n",
              " 'BACTERIA',\n",
              " 'BACTERIA',\n",
              " 'BACTERIA',\n",
              " 'BACTERIA',\n",
              " 'BACTERIA',\n",
              " 'BACTERIA',\n",
              " 'BACTERIA',\n",
              " 'BACTERIA',\n",
              " 'BACTERIA',\n",
              " 'BACTERIA',\n",
              " 'BACTERIA',\n",
              " 'BACTERIA',\n",
              " 'BACTERIA',\n",
              " 'BACTERIA',\n",
              " 'BACTERIA',\n",
              " 'BACTERIA',\n",
              " 'BACTERIA',\n",
              " 'BACTERIA',\n",
              " 'BACTERIA',\n",
              " 'BACTERIA',\n",
              " 'BACTERIA',\n",
              " 'BACTERIA',\n",
              " 'BACTERIA',\n",
              " 'BACTERIA',\n",
              " 'BACTERIA',\n",
              " 'BACTERIA',\n",
              " 'BACTERIA',\n",
              " 'BACTERIA',\n",
              " 'BACTERIA',\n",
              " 'BACTERIA',\n",
              " 'BACTERIA',\n",
              " 'BACTERIA',\n",
              " 'BACTERIA',\n",
              " 'BACTERIA',\n",
              " 'BACTERIA',\n",
              " 'BACTERIA',\n",
              " 'BACTERIA',\n",
              " 'BACTERIA',\n",
              " 'BACTERIA',\n",
              " 'BACTERIA',\n",
              " 'BACTERIA',\n",
              " 'BACTERIA',\n",
              " 'BACTERIA',\n",
              " 'BACTERIA',\n",
              " 'BACTERIA',\n",
              " 'BACTERIA',\n",
              " 'BACTERIA',\n",
              " 'BACTERIA',\n",
              " 'BACTERIA',\n",
              " 'BACTERIA',\n",
              " 'BACTERIA',\n",
              " 'BACTERIA',\n",
              " 'BACTERIA',\n",
              " 'BACTERIA',\n",
              " 'BACTERIA',\n",
              " 'BACTERIA',\n",
              " 'BACTERIA',\n",
              " 'BACTERIA',\n",
              " 'BACTERIA',\n",
              " 'BACTERIA',\n",
              " 'BACTERIA',\n",
              " 'BACTERIA',\n",
              " 'BACTERIA',\n",
              " 'BACTERIA',\n",
              " 'BACTERIA',\n",
              " 'BACTERIA',\n",
              " 'BACTERIA',\n",
              " 'BACTERIA',\n",
              " 'BACTERIA',\n",
              " 'BACTERIA',\n",
              " 'BACTERIA',\n",
              " 'BACTERIA',\n",
              " 'BACTERIA',\n",
              " 'BACTERIA',\n",
              " 'BACTERIA',\n",
              " 'BACTERIA',\n",
              " 'BACTERIA',\n",
              " 'BACTERIA',\n",
              " 'BACTERIA',\n",
              " 'BACTERIA',\n",
              " 'BACTERIA',\n",
              " 'BACTERIA',\n",
              " 'BACTERIA',\n",
              " 'BACTERIA',\n",
              " 'BACTERIA',\n",
              " 'BACTERIA',\n",
              " 'BACTERIA',\n",
              " 'BACTERIA',\n",
              " 'BACTERIA',\n",
              " 'BACTERIA',\n",
              " 'BACTERIA',\n",
              " 'BACTERIA',\n",
              " 'BACTERIA',\n",
              " 'BACTERIA',\n",
              " 'BACTERIA',\n",
              " 'BACTERIA',\n",
              " 'BACTERIA',\n",
              " 'BACTERIA',\n",
              " 'BACTERIA',\n",
              " 'BACTERIA',\n",
              " 'BACTERIA',\n",
              " 'BACTERIA',\n",
              " 'BACTERIA',\n",
              " 'BACTERIA',\n",
              " 'BACTERIA',\n",
              " 'BACTERIA',\n",
              " 'BACTERIA',\n",
              " 'BACTERIA',\n",
              " 'BACTERIA',\n",
              " 'BACTERIA',\n",
              " 'BACTERIA',\n",
              " 'BACTERIA',\n",
              " 'BACTERIA',\n",
              " 'BACTERIA',\n",
              " 'BACTERIA',\n",
              " 'BACTERIA',\n",
              " 'BACTERIA',\n",
              " 'BACTERIA',\n",
              " 'BACTERIA',\n",
              " 'BACTERIA',\n",
              " 'BACTERIA',\n",
              " 'BACTERIA',\n",
              " 'BACTERIA',\n",
              " 'BACTERIA',\n",
              " 'BACTERIA',\n",
              " 'BACTERIA',\n",
              " 'BACTERIA',\n",
              " 'BACTERIA',\n",
              " 'BACTERIA',\n",
              " 'BACTERIA',\n",
              " 'BACTERIA',\n",
              " 'BACTERIA',\n",
              " 'BACTERIA',\n",
              " 'BACTERIA',\n",
              " 'BACTERIA',\n",
              " 'BACTERIA',\n",
              " 'BACTERIA',\n",
              " 'BACTERIA',\n",
              " 'BACTERIA',\n",
              " 'BACTERIA',\n",
              " 'BACTERIA',\n",
              " 'BACTERIA',\n",
              " 'BACTERIA',\n",
              " 'BACTERIA',\n",
              " 'VIRUS',\n",
              " 'BACTERIA',\n",
              " 'VIRUS',\n",
              " 'BACTERIA',\n",
              " 'VIRUS',\n",
              " 'BACTERIA',\n",
              " 'VIRUS',\n",
              " 'VIRUS',\n",
              " 'BACTERIA',\n",
              " 'VIRUS',\n",
              " 'VIRUS',\n",
              " 'VIRUS',\n",
              " 'VIRUS',\n",
              " 'VIRUS',\n",
              " 'BACTERIA',\n",
              " 'VIRUS',\n",
              " 'BACTERIA',\n",
              " 'VIRUS',\n",
              " 'VIRUS',\n",
              " 'BACTERIA',\n",
              " 'VIRUS',\n",
              " 'BACTERIA',\n",
              " 'VIRUS',\n",
              " 'BACTERIA',\n",
              " 'BACTERIA',\n",
              " 'BACTERIA',\n",
              " 'VIRUS',\n",
              " 'BACTERIA',\n",
              " 'BACTERIA',\n",
              " 'VIRUS',\n",
              " 'BACTERIA',\n",
              " 'BACTERIA',\n",
              " 'VIRUS',\n",
              " 'VIRUS',\n",
              " 'VIRUS',\n",
              " 'VIRUS',\n",
              " 'VIRUS',\n",
              " 'VIRUS',\n",
              " 'VIRUS',\n",
              " 'VIRUS',\n",
              " 'VIRUS',\n",
              " 'VIRUS',\n",
              " 'VIRUS',\n",
              " 'VIRUS',\n",
              " 'VIRUS',\n",
              " 'VIRUS',\n",
              " 'VIRUS',\n",
              " 'VIRUS',\n",
              " 'VIRUS',\n",
              " 'VIRUS',\n",
              " 'VIRUS',\n",
              " 'VIRUS',\n",
              " 'VIRUS',\n",
              " 'VIRUS',\n",
              " 'VIRUS',\n",
              " 'VIRUS',\n",
              " 'VIRUS',\n",
              " 'VIRUS',\n",
              " 'VIRUS',\n",
              " 'VIRUS',\n",
              " 'VIRUS',\n",
              " 'VIRUS',\n",
              " 'VIRUS',\n",
              " 'VIRUS',\n",
              " 'VIRUS',\n",
              " 'VIRUS',\n",
              " 'VIRUS',\n",
              " 'VIRUS',\n",
              " 'VIRUS',\n",
              " 'VIRUS',\n",
              " 'VIRUS',\n",
              " 'VIRUS',\n",
              " 'VIRUS',\n",
              " 'VIRUS',\n",
              " 'VIRUS',\n",
              " 'VIRUS',\n",
              " 'VIRUS',\n",
              " 'VIRUS',\n",
              " 'VIRUS',\n",
              " 'VIRUS',\n",
              " 'VIRUS',\n",
              " 'VIRUS',\n",
              " 'VIRUS',\n",
              " 'VIRUS',\n",
              " 'VIRUS',\n",
              " 'VIRUS',\n",
              " 'VIRUS',\n",
              " 'VIRUS',\n",
              " 'VIRUS',\n",
              " 'VIRUS',\n",
              " 'VIRUS',\n",
              " 'VIRUS',\n",
              " 'VIRUS',\n",
              " 'VIRUS',\n",
              " 'VIRUS',\n",
              " 'VIRUS',\n",
              " 'VIRUS',\n",
              " 'VIRUS',\n",
              " 'VIRUS',\n",
              " 'VIRUS',\n",
              " 'VIRUS',\n",
              " 'VIRUS',\n",
              " 'VIRUS',\n",
              " 'VIRUS',\n",
              " 'VIRUS',\n",
              " 'VIRUS',\n",
              " 'VIRUS',\n",
              " 'VIRUS',\n",
              " 'VIRUS',\n",
              " 'VIRUS',\n",
              " 'VIRUS',\n",
              " 'VIRUS',\n",
              " 'VIRUS',\n",
              " 'VIRUS',\n",
              " 'VIRUS',\n",
              " 'VIRUS',\n",
              " 'VIRUS',\n",
              " 'VIRUS',\n",
              " 'VIRUS',\n",
              " 'VIRUS',\n",
              " 'VIRUS',\n",
              " 'VIRUS',\n",
              " 'VIRUS',\n",
              " 'VIRUS',\n",
              " 'VIRUS',\n",
              " 'VIRUS',\n",
              " 'VIRUS',\n",
              " 'VIRUS',\n",
              " 'VIRUS',\n",
              " 'VIRUS',\n",
              " 'VIRUS',\n",
              " 'VIRUS',\n",
              " 'VIRUS',\n",
              " 'VIRUS',\n",
              " 'VIRUS',\n",
              " 'VIRUS',\n",
              " 'VIRUS',\n",
              " 'VIRUS',\n",
              " 'VIRUS',\n",
              " 'VIRUS',\n",
              " 'VIRUS',\n",
              " 'VIRUS',\n",
              " 'VIRUS',\n",
              " 'VIRUS',\n",
              " 'VIRUS',\n",
              " 'VIRUS',\n",
              " 'VIRUS',\n",
              " 'VIRUS',\n",
              " 'VIRUS',\n",
              " 'VIRUS',\n",
              " 'VIRUS',\n",
              " 'VIRUS',\n",
              " 'VIRUS',\n",
              " 'VIRUS',\n",
              " 'VIRUS',\n",
              " 'VIRUS',\n",
              " 'VIRUS',\n",
              " 'VIRUS',\n",
              " 'VIRUS',\n",
              " 'VIRUS',\n",
              " 'VIRUS',\n",
              " 'VIRUS',\n",
              " 'VIRUS']"
            ]
          },
          "metadata": {},
          "execution_count": 12
        }
      ]
    },
    {
      "cell_type": "code",
      "source": [
        "learner = ensemble.RandomForestClassifier()\n",
        "model = learner.fit(train_features_cnn,y_train)"
      ],
      "metadata": {
        "id": "jIbiAiZNTpL1"
      },
      "execution_count": null,
      "outputs": []
    },
    {
      "cell_type": "markdown",
      "source": [
        "## Using first order statistics and GLCM"
      ],
      "metadata": {
        "id": "2IdAQvMdONgL"
      }
    },
    {
      "cell_type": "code",
      "source": [
        "# load the saved features\n",
        "train_features = np.loadtxt('/content/gdrive/MyDrive/bmet5933/BMET5933 Assignment2/train_features.csv',delimiter=',')\n",
        "test_features = np.loadtxt('/content/gdrive/MyDrive/bmet5933/BMET5933 Assignment2/test_features.csv',delimiter=',')"
      ],
      "metadata": {
        "id": "ryrD0OCZOM-t"
      },
      "execution_count": null,
      "outputs": []
    },
    {
      "cell_type": "code",
      "source": [
        "learner2 = ensemble.RandomForestClassifier()\n",
        "model2 = learner2.fit(train_features,y_train)"
      ],
      "metadata": {
        "id": "yz5Dad9KOUqb"
      },
      "execution_count": null,
      "outputs": []
    },
    {
      "cell_type": "markdown",
      "source": [
        "# Evaluation"
      ],
      "metadata": {
        "id": "wGDyyW3fURkl"
      }
    },
    {
      "cell_type": "code",
      "source": [
        "from sklearn.metrics import classification_report"
      ],
      "metadata": {
        "id": "MF8GbK16UhR8"
      },
      "execution_count": null,
      "outputs": []
    },
    {
      "cell_type": "markdown",
      "source": [
        "## Using CNN features"
      ],
      "metadata": {
        "id": "9l_tT__QOdw1"
      }
    },
    {
      "cell_type": "code",
      "source": [
        "prediction = model.predict(test_features_cnn)"
      ],
      "metadata": {
        "id": "KuUy87ondzLb"
      },
      "execution_count": null,
      "outputs": []
    },
    {
      "cell_type": "code",
      "source": [
        "report = classification_report(y_test,prediction)\n",
        "print(report)"
      ],
      "metadata": {
        "colab": {
          "base_uri": "https://localhost:8080/"
        },
        "id": "I-hB372gURAk",
        "outputId": "6bf8c5cc-1671-4e48-ad01-6fd076bcd609"
      },
      "execution_count": null,
      "outputs": [
        {
          "output_type": "stream",
          "name": "stdout",
          "text": [
            "              precision    recall  f1-score   support\n",
            "\n",
            "    BACTERIA       0.72      0.97      0.82       242\n",
            "      NORMAL       0.93      0.72      0.81       234\n",
            "       VIRUS       0.75      0.60      0.67       148\n",
            "\n",
            "    accuracy                           0.79       624\n",
            "   macro avg       0.80      0.76      0.77       624\n",
            "weighted avg       0.81      0.79      0.78       624\n",
            "\n"
          ]
        }
      ]
    },
    {
      "cell_type": "markdown",
      "source": [
        "## Using first order statistics and GLCM"
      ],
      "metadata": {
        "id": "aBRNVtuZOgmW"
      }
    },
    {
      "cell_type": "code",
      "source": [
        "prediction2 = model2.predict(test_features)"
      ],
      "metadata": {
        "id": "uJkOZTbUOspl"
      },
      "execution_count": null,
      "outputs": []
    },
    {
      "cell_type": "code",
      "source": [
        "report2 = classification_report(y_test,prediction2)\n",
        "print(report2)"
      ],
      "metadata": {
        "colab": {
          "base_uri": "https://localhost:8080/"
        },
        "id": "8vgD1QbQOykC",
        "outputId": "f5cb8284-d8bd-4347-b4f5-9bf710a97970"
      },
      "execution_count": null,
      "outputs": [
        {
          "output_type": "stream",
          "name": "stdout",
          "text": [
            "              precision    recall  f1-score   support\n",
            "\n",
            "    BACTERIA       0.58      0.98      0.73       242\n",
            "      NORMAL       0.97      0.38      0.55       234\n",
            "       VIRUS       0.62      0.51      0.56       148\n",
            "\n",
            "    accuracy                           0.64       624\n",
            "   macro avg       0.72      0.62      0.61       624\n",
            "weighted avg       0.73      0.64      0.62       624\n",
            "\n"
          ]
        }
      ]
    }
  ]
}